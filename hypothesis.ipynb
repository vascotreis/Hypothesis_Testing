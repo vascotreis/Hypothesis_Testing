{
 "cells": [
  {
   "cell_type": "markdown",
   "metadata": {},
   "source": [
    "# Before you start:\n",
    "- Read the README.md file\n",
    "- Comment as much as you can and use the resources (README.md file)\n",
    "- Happy learning!"
   ]
  },
  {
   "cell_type": "markdown",
   "metadata": {},
   "source": [
    "# Challenge 1 - Exploring the Data\n",
    "\n",
    "In this challenge, we will examine all salaries of employees of the City of Chicago. We will start by loading the dataset and examining its contents. "
   ]
  },
  {
   "cell_type": "code",
   "execution_count": 1,
   "metadata": {},
   "outputs": [],
   "source": [
    "import pandas as pd\n",
    "import numpy as np\n",
    "\n",
    "import warnings\n",
    "warnings.filterwarnings(\"ignore\")\n",
    "\n",
    "# load the salaries dataset\n",
    "\n",
    "salaries = pd.read_csv('Current_Employee_Names__Salaries__and_Position_Titles.csv')"
   ]
  },
  {
   "cell_type": "markdown",
   "metadata": {},
   "source": [
    "Examine the `salaries` dataset using the `head` function below."
   ]
  },
  {
   "cell_type": "code",
   "execution_count": 2,
   "metadata": {},
   "outputs": [
    {
     "data": {
      "text/html": [
       "<div>\n",
       "<style scoped>\n",
       "    .dataframe tbody tr th:only-of-type {\n",
       "        vertical-align: middle;\n",
       "    }\n",
       "\n",
       "    .dataframe tbody tr th {\n",
       "        vertical-align: top;\n",
       "    }\n",
       "\n",
       "    .dataframe thead th {\n",
       "        text-align: right;\n",
       "    }\n",
       "</style>\n",
       "<table border=\"1\" class=\"dataframe\">\n",
       "  <thead>\n",
       "    <tr style=\"text-align: right;\">\n",
       "      <th></th>\n",
       "      <th>Name</th>\n",
       "      <th>Job Titles</th>\n",
       "      <th>Department</th>\n",
       "      <th>Full or Part-Time</th>\n",
       "      <th>Salary or Hourly</th>\n",
       "      <th>Typical Hours</th>\n",
       "      <th>Annual Salary</th>\n",
       "      <th>Hourly Rate</th>\n",
       "    </tr>\n",
       "  </thead>\n",
       "  <tbody>\n",
       "    <tr>\n",
       "      <th>0</th>\n",
       "      <td>ADRIANO,  RACQUEL ANNE</td>\n",
       "      <td>PARAMEDIC</td>\n",
       "      <td>FIRE</td>\n",
       "      <td>F</td>\n",
       "      <td>Salary</td>\n",
       "      <td>NaN</td>\n",
       "      <td>72510.0</td>\n",
       "      <td>NaN</td>\n",
       "    </tr>\n",
       "    <tr>\n",
       "      <th>1</th>\n",
       "      <td>AFFANEH,  MAHIR A</td>\n",
       "      <td>POLICE OFFICER</td>\n",
       "      <td>POLICE</td>\n",
       "      <td>F</td>\n",
       "      <td>Salary</td>\n",
       "      <td>NaN</td>\n",
       "      <td>93354.0</td>\n",
       "      <td>NaN</td>\n",
       "    </tr>\n",
       "    <tr>\n",
       "      <th>2</th>\n",
       "      <td>AFOENYI,  PHYLLIS</td>\n",
       "      <td>TITLE V PROGRAM TRAINEE I</td>\n",
       "      <td>FAMILY &amp; SUPPORT</td>\n",
       "      <td>P</td>\n",
       "      <td>Hourly</td>\n",
       "      <td>20.0</td>\n",
       "      <td>NaN</td>\n",
       "      <td>13.0</td>\n",
       "    </tr>\n",
       "    <tr>\n",
       "      <th>3</th>\n",
       "      <td>AGAR,  BULENT B</td>\n",
       "      <td>DEPUTY COMMISSIONER</td>\n",
       "      <td>WATER MGMNT</td>\n",
       "      <td>F</td>\n",
       "      <td>Salary</td>\n",
       "      <td>NaN</td>\n",
       "      <td>132972.0</td>\n",
       "      <td>NaN</td>\n",
       "    </tr>\n",
       "    <tr>\n",
       "      <th>4</th>\n",
       "      <td>AGEE,  LAWRENCE</td>\n",
       "      <td>POLICE OFFICER</td>\n",
       "      <td>POLICE</td>\n",
       "      <td>F</td>\n",
       "      <td>Salary</td>\n",
       "      <td>NaN</td>\n",
       "      <td>90024.0</td>\n",
       "      <td>NaN</td>\n",
       "    </tr>\n",
       "  </tbody>\n",
       "</table>\n",
       "</div>"
      ],
      "text/plain": [
       "                     Name                 Job Titles        Department  \\\n",
       "0  ADRIANO,  RACQUEL ANNE                  PARAMEDIC              FIRE   \n",
       "1       AFFANEH,  MAHIR A             POLICE OFFICER            POLICE   \n",
       "2       AFOENYI,  PHYLLIS  TITLE V PROGRAM TRAINEE I  FAMILY & SUPPORT   \n",
       "3         AGAR,  BULENT B        DEPUTY COMMISSIONER       WATER MGMNT   \n",
       "4         AGEE,  LAWRENCE             POLICE OFFICER            POLICE   \n",
       "\n",
       "  Full or Part-Time Salary or Hourly  Typical Hours  Annual Salary  \\\n",
       "0                 F           Salary            NaN        72510.0   \n",
       "1                 F           Salary            NaN        93354.0   \n",
       "2                 P           Hourly           20.0            NaN   \n",
       "3                 F           Salary            NaN       132972.0   \n",
       "4                 F           Salary            NaN        90024.0   \n",
       "\n",
       "   Hourly Rate  \n",
       "0          NaN  \n",
       "1          NaN  \n",
       "2         13.0  \n",
       "3          NaN  \n",
       "4          NaN  "
      ]
     },
     "execution_count": 2,
     "metadata": {},
     "output_type": "execute_result"
    }
   ],
   "source": [
    "# examine the first 5 rows of the dataset\n",
    "salaries.head()"
   ]
  },
  {
   "cell_type": "markdown",
   "metadata": {},
   "source": [
    "We see from looking at the `head` function that there is quite a bit of missing data. Let's examine how much missing data is in each column. Produce this output in the cell below"
   ]
  },
  {
   "cell_type": "code",
   "execution_count": 3,
   "metadata": {},
   "outputs": [
    {
     "name": "stdout",
     "output_type": "stream",
     "text": [
      "Name                     0\n",
      "Job Titles               0\n",
      "Department               0\n",
      "Full or Part-Time        0\n",
      "Salary or Hourly         0\n",
      "Typical Hours        25528\n",
      "Annual Salary         8174\n",
      "Hourly Rate          25528\n",
      "dtype: int64\n"
     ]
    }
   ],
   "source": [
    "# count the number of missing values in each column\n",
    "print(salaries.isnull().sum())"
   ]
  },
  {
   "cell_type": "markdown",
   "metadata": {},
   "source": [
    "Let's also look at the count of hourly vs. salaried employees. Write the code in the cell below"
   ]
  },
  {
   "cell_type": "code",
   "execution_count": 4,
   "metadata": {},
   "outputs": [
    {
     "name": "stdout",
     "output_type": "stream",
     "text": [
      "Number of salaried employees:  25528\n",
      "Number of hourly employees:  8174\n"
     ]
    }
   ],
   "source": [
    "# count the number of salaried and hourly employees\n",
    "print(\"Number of salaried employees: \", salaries[salaries['Salary or Hourly'] == 'Salary'].count()[0])\n",
    "print(\"Number of hourly employees: \", salaries[salaries['Salary or Hourly'] == 'Hourly'].count()[0])"
   ]
  },
  {
   "cell_type": "markdown",
   "metadata": {},
   "source": [
    "What this information indicates is that the table contains information about two types of employees - salaried and hourly. Some columns apply only to one type of employee while other columns only apply to another kind. This is why there are so many missing values. Therefore, we will not do anything to handle the missing values."
   ]
  },
  {
   "cell_type": "markdown",
   "metadata": {},
   "source": [
    "There are different departments in the city. List all departments and the count of employees in each department."
   ]
  },
  {
   "cell_type": "code",
   "execution_count": 5,
   "metadata": {},
   "outputs": [
    {
     "name": "stdout",
     "output_type": "stream",
     "text": [
      "POLICE                 13848\n",
      "FIRE                    4627\n",
      "STREETS & SAN           2175\n",
      "WATER MGMNT             1914\n",
      "AVIATION                1856\n",
      "OEMC                    1737\n",
      "TRANSPORTN              1113\n",
      "PUBLIC LIBRARY          1088\n",
      "DAIS                    1033\n",
      "FAMILY & SUPPORT         656\n",
      "FINANCE                  544\n",
      "HEALTH                   467\n",
      "LAW                      398\n",
      "CITY COUNCIL             362\n",
      "BUILDINGS                258\n",
      "PUBLIC SAFETY ADMIN      244\n",
      "BUSINESS AFFAIRS         167\n",
      "HOUSING & ECON DEV       154\n",
      "COPA                     123\n",
      "BOARD OF ELECTION        111\n",
      "MAYOR'S OFFICE           104\n",
      "INSPECTOR GEN             95\n",
      "CITY CLERK                88\n",
      "PROCUREMENT               84\n",
      "HUMAN RESOURCES           75\n",
      "ANIMAL CONTRL             75\n",
      "CULTURAL AFFAIRS          74\n",
      "HOUSING                   66\n",
      "BUDGET & MGMT             44\n",
      "ADMIN HEARNG              38\n",
      "DISABILITIES              28\n",
      "TREASURER                 28\n",
      "HUMAN RELATIONS           17\n",
      "BOARD OF ETHICS            8\n",
      "POLICE BOARD               2\n",
      "LICENSE APPL COMM          1\n",
      "Name: Department, dtype: int64\n"
     ]
    }
   ],
   "source": [
    "# list all departments and the count of employees in each department\n",
    "print(salaries['Department'].value_counts())"
   ]
  },
  {
   "cell_type": "markdown",
   "metadata": {},
   "source": [
    "# Challenge 2 - Hypothesis Tests\n",
    "\n",
    "In this section of the lab, we will test whether the hourly wage of all hourly workers is significantly different from $30/hr. Import the correct one sample test function from scipy and perform the hypothesis test for a 95% two sided confidence interval."
   ]
  },
  {
   "cell_type": "code",
   "execution_count": 6,
   "metadata": {},
   "outputs": [
    {
     "name": "stdout",
     "output_type": "stream",
     "text": [
      "p-value: 3.825475847673794e-202\n",
      "test statistic: 31.211500329216044\n",
      "Reject null hypothesis. Mean hourly rate is significantly different from $30.\n"
     ]
    }
   ],
   "source": [
    "# import usefull libraries\n",
    "from scipy import stats\n",
    "\n",
    "# Select only the rows for hourly employees\n",
    "hourly = salaries[salaries[\"Salary or Hourly\"] == \"Hourly\"]\n",
    "\n",
    "# Extract the Hourly Rate column\n",
    "hourly_rates = hourly[\"Hourly Rate\"]\n",
    "\n",
    "# Perform the one-sample t-test to test the hypothesis that the mean hourly rate is equal to $30\n",
    "t_statistic, p_value = stats.ttest_1samp(hourly_rates, 30)\n",
    "\n",
    "# Print the p-value and test statistic\n",
    "print(\"p-value:\", p_value)\n",
    "print(\"test statistic:\", t_statistic)\n",
    "\n",
    "# If the p-value is less than 0.05, we reject the null hypothesis that the mean hourly rate is equal to $30\n",
    "if p_value < 0.05:\n",
    "    print(\"Reject null hypothesis. Mean hourly rate is significantly different from $30.\")\n",
    "else:\n",
    "    print(\"Fail to reject null hypothesis. Mean hourly rate is not significantly different from $30.\")\n"
   ]
  },
  {
   "cell_type": "markdown",
   "metadata": {},
   "source": [
    "We are also curious about salaries in the police force. The chief of police in Chicago claimed in a press briefing that salaries this year are higher than last year's mean of $86000/year a year for all salaried employees. Test this one sided hypothesis using a 95% confidence interval.\n",
    "\n",
    "Hint: A one tailed test has a p-value that is half of the two tailed p-value. If our hypothesis is greater than, then to reject, the test statistic must also be positive."
   ]
  },
  {
   "cell_type": "code",
   "execution_count": 7,
   "metadata": {},
   "outputs": [
    {
     "name": "stdout",
     "output_type": "stream",
     "text": [
      "t-statistic: -26.727780708452602\n",
      "p-value: 3.011006959218849e-152\n",
      "Reject the null hypothesis - the mean salary of police officers is significantly different from $86000/year\n"
     ]
    }
   ],
   "source": [
    "# One-sided test:\n",
    "# H0: mean of police's salaries this year are <= $86000/year\n",
    "# H1: mean of police's salaries this year are > $86000/year\n",
    "\n",
    "\n",
    "# Filter the data to include only salaried employees in the police department\n",
    "police_salaries = salaries[(salaries['Job Titles'] == 'POLICE OFFICER') & (salaries['Salary or Hourly'] == 'Salary')]\n",
    "\n",
    "# Calculate the mean salary of the police department\n",
    "police_mean = police_salaries['Annual Salary'].mean()\n",
    "\n",
    "# Perform a one-tailed t-test with a 95% confidence interval\n",
    "t_test_results = stats.ttest_1samp(police_salaries['Annual Salary'], 86000)\n",
    "t_statistic = t_test_results[0]\n",
    "p_value = t_test_results[1] / 2 # One-tailed p-value is half of two-tailed p-value\n",
    "\n",
    "# Print the t-statistic and p-value\n",
    "print(\"t-statistic:\", t_statistic)\n",
    "print(\"p-value:\", p_value)\n",
    "\n",
    "# Check if the p-value is less than 0.05, which means we reject the null hypothesis\n",
    "if p_value < 0.05:\n",
    "    print(\"Reject the null hypothesis - the mean salary of police officers is significantly different from $86000/year\")\n",
    "else:\n",
    "    print(\"Fail to reject the null hypothesis - the mean salary of police officers is not significantly different from $86000/year\")\n"
   ]
  },
  {
   "cell_type": "markdown",
   "metadata": {},
   "source": [
    "Using the crosstab function, find the department that has the most hourly workers."
   ]
  },
  {
   "cell_type": "code",
   "execution_count": 8,
   "metadata": {},
   "outputs": [
    {
     "name": "stdout",
     "output_type": "stream",
     "text": [
      "The department with the most hourly workers is STREETS & SAN.\n"
     ]
    }
   ],
   "source": [
    "# Create a cross tabulation of the departments and employee type (hourly or salaried)\n",
    "department_employee_type = pd.crosstab(index=salaries['Department'], columns=salaries['Salary or Hourly'])\n",
    "\n",
    "# Find the department with the most hourly workers\n",
    "most_hourly_workers_department = department_employee_type['Hourly'].idxmax()\n",
    "\n",
    "# Print the department with the most hourly workers\n",
    "print(f\"The department with the most hourly workers is {most_hourly_workers_department}.\")\n"
   ]
  },
  {
   "cell_type": "markdown",
   "metadata": {},
   "source": [
    "The workers from the department with the most hourly workers have complained that their hourly wage is less than $35/hour. Using a one sample t-test, test this one-sided hypothesis at the 95% confidence level."
   ]
  },
  {
   "cell_type": "code",
   "execution_count": 9,
   "metadata": {},
   "outputs": [
    {
     "name": "stdout",
     "output_type": "stream",
     "text": [
      "t-statistic:  4.000138803968834\n",
      "p-value:  6.580474443773579e-05\n",
      "We reject the null hypothesis. There is evidence that the hourly wage of workers in the department with the most hourly workers is less than $35/hour.\n"
     ]
    }
   ],
   "source": [
    "# Select only the hourly workers\n",
    "hourly_workers = salaries[salaries[\"Salary or Hourly\"] == \"Hourly\"]\n",
    "\n",
    "# Create a crosstab to find the department with the most hourly workers\n",
    "most_hourly_workers = pd.crosstab(index=hourly_workers[\"Department\"], \n",
    "                                  columns=\"count\")\n",
    "most_hourly_workers = most_hourly_workers.sort_values(by='count', ascending=False)\n",
    "\n",
    "# Find the department with the most hourly workers\n",
    "department_with_most_hourly_workers = most_hourly_workers.index[0]\n",
    "\n",
    "# Select only the hourly workers from the department with the most hourly workers\n",
    "department_hourly_workers = hourly_workers[hourly_workers[\"Department\"] == department_with_most_hourly_workers]\n",
    "\n",
    "# Perform the one sample t-test\n",
    "t_statistic, p_value = stats.ttest_1samp(department_hourly_workers[\"Hourly Rate\"], 35)\n",
    "\n",
    "# Print the results\n",
    "print(\"t-statistic: \", t_statistic)\n",
    "print(\"p-value: \", p_value)\n",
    "\n",
    "# Interpret the results\n",
    "if p_value < 0.05:\n",
    "    print(\"We reject the null hypothesis. There is evidence that the hourly wage of workers in the department with the most hourly workers is less than $35/hour.\")\n",
    "else:\n",
    "    print(\"We fail to reject the null hypothesis. There is not enough evidence to suggest that the hourly wage of workers in the department with the most hourly workers is less than $35/hour.\")\n"
   ]
  },
  {
   "cell_type": "markdown",
   "metadata": {},
   "source": [
    "# Challenge 3: To practice - Constructing Confidence Intervals\n",
    "\n",
    "While testing our hypothesis is a great way to gather empirical evidence for accepting or rejecting the hypothesis, another way to gather evidence is by creating a confidence interval. A confidence interval gives us information about the true mean of the population. So for a 95% confidence interval, we are 95% sure that the mean of the population is within the confidence interval. \n",
    ").\n",
    "\n",
    "To read more about confidence intervals, click [here](https://en.wikipedia.org/wiki/Confidence_interval).\n",
    "\n",
    "\n",
    "In the cell below, we will construct a 95% confidence interval for the mean hourly wage of all hourly workers. \n",
    "\n",
    "The confidence interval is computed in SciPy using the `t.interval` function. You can read more about this function [here](https://docs.scipy.org/doc/scipy-0.14.0/reference/generated/scipy.stats.t.html).\n",
    "\n",
    "To compute the confidence interval of the hourly wage, use the 0.95 for the confidence level, number of rows - 1 for degrees of freedom, the mean of the sample for the location parameter and the standard error for the scale. The standard error can be computed using [this](https://docs.scipy.org/doc/scipy/reference/generated/scipy.stats.sem.html) function in SciPy."
   ]
  },
  {
   "cell_type": "code",
   "execution_count": 10,
   "metadata": {},
   "outputs": [
    {
     "name": "stdout",
     "output_type": "stream",
     "text": [
      "The 95% confidence interval of the mean hourly wage is (34.29839539204361, 34.874504045197305)\n"
     ]
    }
   ],
   "source": [
    "from scipy import stats\n",
    "\n",
    "# Extract hourly wage data\n",
    "hourly_wage = salaries[salaries['Salary or Hourly']=='Hourly']['Hourly Rate']\n",
    "\n",
    "# Compute the mean and standard error of the mean\n",
    "mean = np.mean(hourly_wage)\n",
    "sem = stats.sem(hourly_wage)\n",
    "\n",
    "# Compute the degrees of freedom\n",
    "dof = len(hourly_wage) - 1\n",
    "\n",
    "# Compute the confidence interval\n",
    "confidence_interval = stats.t.interval(alpha = 0.95,              # Confidence level\n",
    "                                      df = dof,                  # Degrees of freedom\n",
    "                                      scale = sem,               # Standard error\n",
    "                                      loc = mean)                # Mean\n",
    "\n",
    "# Print the confidence interval\n",
    "print(\"The 95% confidence interval of the mean hourly wage is\", confidence_interval)\n"
   ]
  },
  {
   "cell_type": "markdown",
   "metadata": {},
   "source": [
    "Now construct the 95% confidence interval for all salaried employeed in the police in the cell below."
   ]
  },
  {
   "cell_type": "code",
   "execution_count": 11,
   "metadata": {},
   "outputs": [
    {
     "name": "stdout",
     "output_type": "stream",
     "text": [
      "95% Confidence interval for the mean annual salary of police salaried employees:  (88534.1182885883, 89134.11955863392)\n"
     ]
    }
   ],
   "source": [
    "import scipy.stats as stats\n",
    "\n",
    "# Filter the data to only include police department salaried employees\n",
    "police_salaried = salaries[(salaries['Department'] == 'POLICE') & (salaries['Salary or Hourly'] == 'Salary')]\n",
    "\n",
    "# Compute the mean of the salaried police employees\n",
    "mean_salary = police_salaried['Annual Salary'].mean()\n",
    "\n",
    "# Compute the standard error of the mean of the salaried police employees\n",
    "sem = stats.sem(police_salaried['Annual Salary'])\n",
    "\n",
    "# Compute the degrees of freedom\n",
    "dof = len(police_salaried) - 1\n",
    "\n",
    "# Compute the confidence interval\n",
    "conf_int = stats.t.interval(alpha=0.95, df=dof, loc=mean_salary, scale=sem)\n",
    "\n",
    "print(\"95% Confidence interval for the mean annual salary of police salaried employees: \", conf_int)\n"
   ]
  },
  {
   "cell_type": "markdown",
   "metadata": {},
   "source": [
    "##### CONFIDENCE INTERVAL IS (88534.1182885883, 89134.11955863392)"
   ]
  },
  {
   "cell_type": "markdown",
   "metadata": {},
   "source": [
    "# Bonus Challenge - Hypothesis Tests of Proportions\n",
    "\n",
    "Another type of one sample test is a hypothesis test of proportions. In this test, we examine whether the proportion of a group in our sample is significantly different than a fraction. \n",
    "\n",
    "You can read more about one sample proportion tests [here](http://sphweb.bumc.bu.edu/otlt/MPH-Modules/BS/SAS/SAS6-CategoricalData/SAS6-CategoricalData2.html).\n",
    "\n",
    "In the cell below, use the `proportions_ztest` function from `statsmodels` to perform a hypothesis test that will determine whether the number of hourly workers in the City of Chicago is significantly different from 25% at the 95% confidence level."
   ]
  },
  {
   "cell_type": "code",
   "execution_count": 12,
   "metadata": {},
   "outputs": [
    {
     "data": {
      "text/plain": [
       "(3.196245387033488, 0.0013922864704323692)"
      ]
     },
     "execution_count": 12,
     "metadata": {},
     "output_type": "execute_result"
    }
   ],
   "source": [
    "from statsmodels.stats.proportion import proportions_ztest\n",
    "\n",
    "proportions_ztest(salaries[salaries['Salary or Hourly'] == 'Salary']['Salary or Hourly'].count(),\n",
    "                  len(salaries['Salary or Hourly']),0.75)\n"
   ]
  },
  {
   "cell_type": "code",
   "execution_count": 13,
   "metadata": {},
   "outputs": [
    {
     "data": {
      "text/plain": [
       "0.7574624651356002"
      ]
     },
     "execution_count": 13,
     "metadata": {},
     "output_type": "execute_result"
    }
   ],
   "source": [
    "(salaries[salaries['Salary or Hourly'] == 'Salary']['Salary or Hourly'].count())/(salaries['Salary or Hourly'].count())"
   ]
  }
 ],
 "metadata": {
  "kernelspec": {
   "display_name": "Python 3 (ipykernel)",
   "language": "python",
   "name": "python3"
  },
  "language_info": {
   "codemirror_mode": {
    "name": "ipython",
    "version": 3
   },
   "file_extension": ".py",
   "mimetype": "text/x-python",
   "name": "python",
   "nbconvert_exporter": "python",
   "pygments_lexer": "ipython3",
   "version": "3.9.13"
  }
 },
 "nbformat": 4,
 "nbformat_minor": 4
}
